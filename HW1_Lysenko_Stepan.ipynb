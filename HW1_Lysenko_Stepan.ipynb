{
 "cells": [
  {
   "cell_type": "markdown",
   "metadata": {},
   "source": [
    "## Time Series Analysis: Home Assignment 1"
   ]
  },
  {
   "cell_type": "markdown",
   "metadata": {},
   "source": [
    "due to **11.02.21 23:00**\n",
    "\n",
    "You need to upload HA1 to github repository,  the link will be provided later."
   ]
  },
  {
   "cell_type": "markdown",
   "metadata": {},
   "source": [
    "Enter your name below: "
   ]
  },
  {
   "cell_type": "code",
   "execution_count": 1,
   "metadata": {},
   "outputs": [],
   "source": [
    "name='Lysenko Stepan' "
   ]
  },
  {
   "cell_type": "markdown",
   "metadata": {},
   "source": [
    "### Contents"
   ]
  },
  {
   "cell_type": "markdown",
   "metadata": {},
   "source": [
    "1. **Data preparation (7 points)**\n",
    "\n",
    "    $1.0$ Download data and import functions\n",
    "    \n",
    "    $1.1$ Read data (1 pt.)\n",
    "    \n",
    "    $1.2$ Check NAs (1 pt.)\n",
    "    \n",
    "    $1.3$ Transform dates (2 pt.)\n",
    "    \n",
    "    $1.4$. Make some plots (0.75 pt.)\n",
    "    \n",
    "    $1.5$ Split the data (0.75 pt.)\n",
    "    \n",
    " \n",
    "2. **ETS (7 points)**\n",
    "\n",
    "    $2.1$ Estimate ETS (1 pt.)\n",
    "    \n",
    "    $2.2$ Point forecasts (1 pt.)\n",
    "    \n",
    "    $2.3$ Interval forecasts 1 (1 pt.)\n",
    "    \n",
    "    $2.4$ Interval forecasts 2 (1 pt.)\n",
    "    \n",
    "    $2.5$ Forecast quality metrics (2 pt.)\n",
    "    \n",
    "    $2.6$ Model comparison (1 pt.)\n",
    "    "
   ]
  },
  {
   "cell_type": "markdown",
   "metadata": {},
   "source": [
    "## 1. Data preparation (7 pt.)"
   ]
  },
  {
   "cell_type": "markdown",
   "metadata": {},
   "source": [
    "### 1.0 Download data and import functions\n",
    "[back to contents](#Contents)"
   ]
  },
  {
   "cell_type": "markdown",
   "metadata": {},
   "source": [
    "You have to download [BI_TSA_HA_1_data.csv](https://github.com/bdemeshev/ts603/blob/master/2021-spring/BI_TSA_HA_1_data.csv), which represents quarterly sales of Walmart from 1984 to 2020. The sourse of the data is [ycharts.com](https://ycharts.com/companies/WMT/revenues). "
   ]
  },
  {
   "cell_type": "code",
   "execution_count": 4,
   "metadata": {},
   "outputs": [],
   "source": [
    "import pandas as pd\n",
    "import numpy as np\n",
    "from sktime.utils.plotting import plot_series\n",
    "from sktime.forecasting.model_selection import temporal_train_test_split\n",
    "from statsmodels.tsa.exponential_smoothing.ets import ETSModel\n",
    "from sklearn.metrics import  mean_absolute_error, mean_squared_error"
   ]
  },
  {
   "cell_type": "markdown",
   "metadata": {},
   "source": [
    "### 1.1 Read data (1 pt.)\n",
    "[back to contents](#Contents)"
   ]
  },
  {
   "cell_type": "markdown",
   "metadata": {},
   "source": [
    "Read the downloaded data from your local computer and name it ``` df ```\n",
    "\n",
    "Alternatively, you can skip 1.0 and access data directly putting ```'https://raw.github.com/bdemeshev/ts603/master/2021-spring/BI_TSA_HA_1_data.csv'``` inside ```read_csv```\n",
    "\n",
    "use ``` pd.read_csv('... .csv') ```"
   ]
  },
  {
   "cell_type": "code",
   "execution_count": 5,
   "metadata": {},
   "outputs": [],
   "source": [
    "#code here (1 pt.)\n",
    "df=pd.read_csv('https://raw.github.com/bdemeshev/ts603/master/2021-spring/BI_TSA_HA_1_data.csv')"
   ]
  },
  {
   "cell_type": "markdown",
   "metadata": {},
   "source": [
    "### 1.2 Check NAs (1 pt.)\n",
    "[back to contents](#Contents)"
   ]
  },
  {
   "cell_type": "markdown",
   "metadata": {},
   "source": [
    "Check whether ``` df ``` contains missing values(NAs):\n",
    "\n",
    "apply ``` isna().value_counts() ``` to ``` df ```"
   ]
  },
  {
   "cell_type": "code",
   "execution_count": 6,
   "metadata": {},
   "outputs": [
    {
     "name": "stdout",
     "output_type": "stream",
     "text": [
      "sales  month  day    year \n",
      "False  False  False  False    147\n",
      "dtype: int64\n"
     ]
    }
   ],
   "source": [
    "# code here (0.5 pt.)\n",
    "print(df.isnull().value_counts())"
   ]
  },
  {
   "cell_type": "markdown",
   "metadata": {},
   "source": [
    "How many missing values are there in ``` df ```?"
   ]
  },
  {
   "cell_type": "code",
   "execution_count": 7,
   "metadata": {},
   "outputs": [
    {
     "name": "stdout",
     "output_type": "stream",
     "text": [
      "sales    0\n",
      "month    0\n",
      "day      0\n",
      "year     0\n",
      "dtype: int64\n"
     ]
    }
   ],
   "source": [
    "# answer (0.5 pt.)\n",
    "print(df.isnull().sum())"
   ]
  },
  {
   "cell_type": "markdown",
   "metadata": {},
   "source": [
    "### 1.3 Dates transformation (2 pt.)\n",
    "[back to contents](#Contents)"
   ]
  },
  {
   "cell_type": "markdown",
   "metadata": {},
   "source": [
    "How are dates represented in the original dataset? "
   ]
  },
  {
   "cell_type": "code",
   "execution_count": 8,
   "metadata": {},
   "outputs": [
    {
     "name": "stdout",
     "output_type": "stream",
     "text": [
      "Years, monthes and days are represented apart in the different columns\n"
     ]
    }
   ],
   "source": [
    "# answer (0.5 pt.)\n",
    "print('Years, monthes and days are represented apart in the different columns')"
   ]
  },
  {
   "cell_type": "markdown",
   "metadata": {},
   "source": [
    "Transform dates to datetime format:\n",
    "\n",
    "``` df['date']=df['...']*10000+df['...']*100+df['...']*1 ```\n",
    "\n",
    "``` df['date']=pd.to_datetime(df['date'], format='%Y%m%d') ```\n",
    "\n",
    "change each ``` df['...'] ``` to one of ``` df['month'] ```, ``` df['year'] ```, ``` df['day'] ```according to ``` format='%Y%m%d'```"
   ]
  },
  {
   "cell_type": "code",
   "execution_count": 9,
   "metadata": {},
   "outputs": [
    {
     "name": "stdout",
     "output_type": "stream",
     "text": [
      "       sales  month  day  year       date\n",
      "0    134.710     10   31  2020 2020-10-31\n",
      "1    137.740      7   31  2020 2020-07-31\n",
      "2    134.620      4   30  2020 2020-04-30\n",
      "3    141.670      1   31  2020 2020-01-31\n",
      "4    127.990     10   31  2019 2019-10-31\n",
      "..       ...    ...  ...   ...        ...\n",
      "142    1.656      4   30  1985 1985-04-30\n",
      "143    2.074      1   31  1985 1985-01-31\n",
      "144    1.584     10   31  1984 1984-10-31\n",
      "145    1.508      7   31  1984 1984-07-31\n",
      "146    1.235      4   30  1984 1984-04-30\n",
      "\n",
      "[147 rows x 5 columns]\n"
     ]
    }
   ],
   "source": [
    "# code here (0.5 pt.)\n",
    "df['date']=df['year']*10000+df['month']*100+df['day']*1\n",
    "df['date']=pd.to_datetime(df['date'], format='%Y%m%d')\n",
    "print(df)"
   ]
  },
  {
   "cell_type": "markdown",
   "metadata": {},
   "source": [
    "Change index to dates:\n",
    "\n",
    "``` df.index=.... ```"
   ]
  },
  {
   "cell_type": "code",
   "execution_count": 10,
   "metadata": {},
   "outputs": [
    {
     "name": "stdout",
     "output_type": "stream",
     "text": [
      "              sales  month  day  year       date\n",
      "date                                            \n",
      "2020-10-31  134.710     10   31  2020 2020-10-31\n",
      "2020-07-31  137.740      7   31  2020 2020-07-31\n",
      "2020-04-30  134.620      4   30  2020 2020-04-30\n",
      "2020-01-31  141.670      1   31  2020 2020-01-31\n",
      "2019-10-31  127.990     10   31  2019 2019-10-31\n",
      "...             ...    ...  ...   ...        ...\n",
      "1985-04-30    1.656      4   30  1985 1985-04-30\n",
      "1985-01-31    2.074      1   31  1985 1985-01-31\n",
      "1984-10-31    1.584     10   31  1984 1984-10-31\n",
      "1984-07-31    1.508      7   31  1984 1984-07-31\n",
      "1984-04-30    1.235      4   30  1984 1984-04-30\n",
      "\n",
      "[147 rows x 5 columns]\n"
     ]
    }
   ],
   "source": [
    "# code here (0.25 pt.)\n",
    "df.index=pd.to_datetime(df['date'])\n",
    "print(df)"
   ]
  },
  {
   "cell_type": "markdown",
   "metadata": {},
   "source": [
    "What is the size of the dataset?\n",
    "\n",
    "use ```.shape```"
   ]
  },
  {
   "cell_type": "code",
   "execution_count": 11,
   "metadata": {},
   "outputs": [
    {
     "name": "stdout",
     "output_type": "stream",
     "text": [
      "(147, 5)\n"
     ]
    }
   ],
   "source": [
    "# code here (0.25 pt.)\n",
    "print(df.shape)"
   ]
  },
  {
   "cell_type": "markdown",
   "metadata": {},
   "source": [
    "Drop columns ['day', 'year','month','date']:\n",
    "\n",
    "```df=df.drop(..., axis=1)```"
   ]
  },
  {
   "cell_type": "code",
   "execution_count": 12,
   "metadata": {},
   "outputs": [
    {
     "name": "stdout",
     "output_type": "stream",
     "text": [
      "              sales\n",
      "date               \n",
      "2020-10-31  134.710\n",
      "2020-07-31  137.740\n",
      "2020-04-30  134.620\n",
      "2020-01-31  141.670\n",
      "2019-10-31  127.990\n",
      "...             ...\n",
      "1985-04-30    1.656\n",
      "1985-01-31    2.074\n",
      "1984-10-31    1.584\n",
      "1984-07-31    1.508\n",
      "1984-04-30    1.235\n",
      "\n",
      "[147 rows x 1 columns]\n"
     ]
    }
   ],
   "source": [
    "# code here (0.25 pt.)\n",
    "df=df.drop(['day', 'year','month', 'date'], axis=1)\n",
    "\n",
    "print(df)"
   ]
  },
  {
   "cell_type": "markdown",
   "metadata": {},
   "source": [
    "What is the size of the dataset now?"
   ]
  },
  {
   "cell_type": "code",
   "execution_count": 13,
   "metadata": {},
   "outputs": [
    {
     "name": "stdout",
     "output_type": "stream",
     "text": [
      "(147, 1)\n"
     ]
    }
   ],
   "source": [
    "# code here (0.25 pt.)\n",
    "print(df.shape)"
   ]
  },
  {
   "cell_type": "markdown",
   "metadata": {},
   "source": [
    "### 1.4 Plot data (0.75 pt.)\n",
    "[back to contents](#Contents)"
   ]
  },
  {
   "cell_type": "markdown",
   "metadata": {},
   "source": [
    "transform data frame column to series:\n",
    "\n",
    "```y=df['date']```"
   ]
  },
  {
   "cell_type": "code",
   "execution_count": 14,
   "metadata": {},
   "outputs": [
    {
     "name": "stdout",
     "output_type": "stream",
     "text": [
      "date\n",
      "2020-10-31    134.710\n",
      "2020-07-31    137.740\n",
      "2020-04-30    134.620\n",
      "2020-01-31    141.670\n",
      "2019-10-31    127.990\n",
      "               ...   \n",
      "1985-04-30      1.656\n",
      "1985-01-31      2.074\n",
      "1984-10-31      1.584\n",
      "1984-07-31      1.508\n",
      "1984-04-30      1.235\n",
      "Name: sales, Length: 147, dtype: float64\n"
     ]
    }
   ],
   "source": [
    "# code here (0.25 pt.)\n",
    "y=pd.Series(df['sales'])\n",
    "print(y)"
   ]
  },
  {
   "cell_type": "markdown",
   "metadata": {},
   "source": [
    "```plot_series``` gets a series as an argument, whose dates sorted in ascending order.\n",
    "Transform your time series by changing descending order to ascending order:\n",
    "\n",
    "apply ```np.flip``` to ```y``` and name the result ```y```"
   ]
  },
  {
   "cell_type": "code",
   "execution_count": 15,
   "metadata": {},
   "outputs": [
    {
     "name": "stdout",
     "output_type": "stream",
     "text": [
      "date\n",
      "1984-04-30      1.235\n",
      "1984-07-31      1.508\n",
      "1984-10-31      1.584\n",
      "1985-01-31      2.074\n",
      "1985-04-30      1.656\n",
      "               ...   \n",
      "2019-10-31    127.990\n",
      "2020-01-31    141.670\n",
      "2020-04-30    134.620\n",
      "2020-07-31    137.740\n",
      "2020-10-31    134.710\n",
      "Name: sales, Length: 147, dtype: float64\n"
     ]
    }
   ],
   "source": [
    "# code here (0.25 pt.)\n",
    "y=np.flip(y)\n",
    "\n",
    "print(y)"
   ]
  },
  {
   "cell_type": "markdown",
   "metadata": {},
   "source": [
    "Plot the series using ```plot_series()```"
   ]
  },
  {
   "cell_type": "code",
   "execution_count": 16,
   "metadata": {},
   "outputs": [
    {
     "data": {
      "text/plain": [
       "(<Figure size 1152x288 with 1 Axes>, <AxesSubplot:ylabel='sales'>)"
      ]
     },
     "execution_count": 16,
     "metadata": {},
     "output_type": "execute_result"
    },
    {
     "data": {
      "image/png": "[encoded data removed]",
      "text/plain": [
       "<Figure size 1152x288 with 1 Axes>"
      ]
     },
     "metadata": {
      "needs_background": "light"
     },
     "output_type": "display_data"
    }
   ],
   "source": [
    "# code here (0.25 pt.)\n",
    "plot_series(y)\n"
   ]
  },
  {
   "cell_type": "markdown",
   "metadata": {},
   "source": [
    "### 1.5 Split data (0.75 pt.)\n",
    "[back to contents](#Contents)"
   ]
  },
  {
   "cell_type": "markdown",
   "metadata": {},
   "source": [
    "Split the data into train and test samples:\n",
    "\n",
    "``` temporal_train_test_split(...) ```\n",
    "\n",
    "choose ``` test_size=0.2 ```"
   ]
  },
  {
   "cell_type": "code",
   "execution_count": 17,
   "metadata": {},
   "outputs": [],
   "source": [
    "# code here (0.5 pt.)\n",
    "y_train, y_test = temporal_train_test_split(y, test_size=0.2)"
   ]
  },
  {
   "cell_type": "markdown",
   "metadata": {},
   "source": [
    "plot train and test samples using ``` plot_series ```"
   ]
  },
  {
   "cell_type": "code",
   "execution_count": 18,
   "metadata": {},
   "outputs": [
    {
     "data": {
      "text/plain": [
       "(<Figure size 1152x288 with 1 Axes>, <AxesSubplot:ylabel='sales'>)"
      ]
     },
     "execution_count": 18,
     "metadata": {},
     "output_type": "execute_result"
    },
    {
     "data": {
      "image/png": "[encoded data removed]",
      "text/plain": [
       "<Figure size 1152x288 with 1 Axes>"
      ]
     },
     "metadata": {
      "needs_background": "light"
     },
     "output_type": "display_data"
    }
   ],
   "source": [
    "# code here (0.25 pt.)\n",
    "plot_series(y_train, y_test, labels=['Train', 'Test'])"
   ]
  },
  {
   "cell_type": "markdown",
   "metadata": {},
   "source": [
    "## 2. ETS (7 pt.)"
   ]
  },
  {
   "cell_type": "markdown",
   "metadata": {},
   "source": [
    "### 2.1 Estimate ETS (MAA) and (AAM) (1 pt.)\n",
    "[back to contents](#Contents)"
   ]
  },
  {
   "cell_type": "markdown",
   "metadata": {},
   "source": [
    "Start with ETS (MAA). Estimate the model and name it ```model_MAA```:\n",
    "\n",
    "```ETSModel(..., error='...', trend='...', seasonal='...', seasonal_periods=...)```\n",
    "\n",
    "```fit_MAA=model_MAA.fit()```\n"
   ]
  },
  {
   "cell_type": "code",
   "execution_count": 24,
   "metadata": {},
   "outputs": [
    {
     "name": "stderr",
     "output_type": "stream",
     "text": [
      "C:\\min\\lib\\site-packages\\statsmodels\\tsa\\base\\tsa_model.py:527: ValueWarning: No frequency information was provided, so inferred frequency Q-OCT will be used.\n",
      "  % freq, ValueWarning)\n"
     ]
    },
    {
     "name": "stdout",
     "output_type": "stream",
     "text": [
      "                                 ETS Results                                  \n",
      "==============================================================================\n",
      "Dep. Variable:                  sales   No. Observations:                  117\n",
      "Model:                       ETS(MAA)   Log Likelihood                -177.074\n",
      "Date:                Thu, 11 Feb 2021   AIC                            374.147\n",
      "Time:                        04:46:33   BIC                            401.769\n",
      "Sample:                    04-30-1984   HQIC                           385.361\n",
      "                         - 04-30-2013   Scale                            0.002\n",
      "Covariance Type:               approx                                         \n",
      "======================================================================================\n",
      "                         coef    std err          z      P>|z|      [0.025      0.975]\n",
      "--------------------------------------------------------------------------------------\n",
      "smoothing_level        0.3363      0.080      4.186      0.000       0.179       0.494\n",
      "smoothing_trend        0.1333      0.035      3.864      0.000       0.066       0.201\n",
      "smoothing_seasonal     0.4801      0.066      7.312      0.000       0.351       0.609\n",
      "initial_level          1.1159        nan        nan        nan         nan         nan\n",
      "initial_trend          0.1101      0.028      3.959      0.000       0.056       0.165\n",
      "initial_seasonal.0     0.5439        nan        nan        nan         nan         nan\n",
      "initial_seasonal.1     0.1413        nan        nan        nan         nan         nan\n",
      "initial_seasonal.2     0.1666        nan        nan        nan         nan         nan\n",
      "initial_seasonal.3          0        nan        nan        nan         nan         nan\n",
      "===================================================================================\n",
      "Ljung-Box (Q):                        7.99   Jarque-Bera (JB):               125.57\n",
      "Prob(Q):                              0.43   Prob(JB):                         0.00\n",
      "Heteroskedasticity (H):               0.35   Skew:                            -0.36\n",
      "Prob(H) (two-sided):                  0.00   Kurtosis:                         8.02\n",
      "===================================================================================\n",
      "\n",
      "Warnings:\n",
      "[1] Covariance matrix calculated using numerical (complex-step) differentiation.\n"
     ]
    }
   ],
   "source": [
    "# code here (0.5 pt.)\n",
    "model_MAA = ETSModel(y_train, error='mul', trend='add', seasonal='add', seasonal_periods=4)\n",
    "fit_MAA=model_MAA.fit()\n",
    "print(fit_MAA.summary())"
   ]
  },
  {
   "cell_type": "markdown",
   "metadata": {},
   "source": [
    "Estimate ETS (AAM) with the same characteristics:\n",
    "    \n",
    "```ETSModel(..., error='...', trend='...', seasonal='...', seasonal_periods=...)```\n",
    "\n",
    "```fit_AAM=model_AAM.fit()```\n"
   ]
  },
  {
   "cell_type": "code",
   "execution_count": 26,
   "metadata": {},
   "outputs": [
    {
     "name": "stdout",
     "output_type": "stream",
     "text": [
      "                                 ETS Results                                  \n",
      "==============================================================================\n",
      "Dep. Variable:                  sales   No. Observations:                  117\n",
      "Model:                       ETS(AAM)   Log Likelihood                -241.169\n",
      "Date:                Thu, 11 Feb 2021   AIC                            502.338\n",
      "Time:                        04:48:54   BIC                            529.960\n",
      "Sample:                    04-30-1984   HQIC                           513.552\n",
      "                         - 04-30-2013   Scale                            3.613\n",
      "Covariance Type:               approx                                         \n",
      "======================================================================================\n",
      "                         coef    std err          z      P>|z|      [0.025      0.975]\n",
      "--------------------------------------------------------------------------------------\n",
      "smoothing_level        0.5437      0.107      5.076      0.000       0.334       0.754\n",
      "smoothing_trend        0.0429      0.020      2.098      0.036       0.003       0.083\n",
      "smoothing_seasonal     0.1796      0.046      3.917      0.000       0.090       0.269\n",
      "initial_level          0.9790     37.391      0.026      0.979     -72.306      74.264\n",
      "initial_trend          0.2907     11.093      0.026      0.979     -21.451      22.032\n",
      "initial_seasonal.0     1.0711     40.872      0.026      0.979     -79.037      81.179\n",
      "initial_seasonal.1     0.8276     31.577      0.026      0.979     -61.063      62.718\n",
      "initial_seasonal.2     0.8186     31.241      0.026      0.979     -60.413      62.050\n",
      "initial_seasonal.3     1.0000     38.156      0.026      0.979     -73.784      75.784\n",
      "===================================================================================\n",
      "Ljung-Box (Q):                        7.60   Jarque-Bera (JB):              3185.64\n",
      "Prob(Q):                              0.47   Prob(JB):                         0.00\n",
      "Heteroskedasticity (H):              22.15   Skew:                            -3.60\n",
      "Prob(H) (two-sided):                  0.00   Kurtosis:                        27.53\n",
      "===================================================================================\n",
      "\n",
      "Warnings:\n",
      "[1] Covariance matrix calculated using numerical (complex-step) differentiation.\n"
     ]
    },
    {
     "name": "stderr",
     "output_type": "stream",
     "text": [
      "C:\\min\\lib\\site-packages\\statsmodels\\tsa\\base\\tsa_model.py:527: ValueWarning: No frequency information was provided, so inferred frequency Q-OCT will be used.\n",
      "  % freq, ValueWarning)\n"
     ]
    }
   ],
   "source": [
    "# code here (0.5 pt.)\n",
    "model_AAM = ETSModel(y_train, error='add', trend='add', seasonal='mul', seasonal_periods=4)\n",
    "fit_AAM=model_AAM.fit()\n",
    "print(fit_AAM.summary())"
   ]
  },
  {
   "cell_type": "markdown",
   "metadata": {},
   "source": [
    "### 2.2 Point forecasts (1 pt.)\n",
    "[back to contents](#Contents)"
   ]
  },
  {
   "cell_type": "markdown",
   "metadata": {},
   "source": [
    "Obtain point forecasts for ETS(MAA) with forecasting horizon=30 quarters:\n",
    "\n",
    "```fit_MAA.forecast(steps=...)```"
   ]
  },
  {
   "cell_type": "code",
   "execution_count": 320,
   "metadata": {},
   "outputs": [
    {
     "data": {
      "text/plain": [
       "2013-07-31    105.090172\n",
       "2013-10-31     92.621749\n",
       "2014-01-31     80.698328\n",
       "2014-04-30     66.994900\n",
       "2014-07-31     58.012482\n",
       "2014-10-31     45.544058\n",
       "2015-01-31     33.620638\n",
       "2015-04-30     19.917210\n",
       "2015-07-31     10.934792\n",
       "2015-10-31     -1.533632\n",
       "2016-01-31    -13.457053\n",
       "2016-04-30    -27.160481\n",
       "2016-07-31    -36.142899\n",
       "2016-10-31    -48.611323\n",
       "2017-01-31    -60.534743\n",
       "2017-04-30    -74.238171\n",
       "2017-07-31    -83.220589\n",
       "2017-10-31    -95.689013\n",
       "2018-01-31   -107.612433\n",
       "2018-04-30   -121.315861\n",
       "2018-07-31   -130.298279\n",
       "2018-10-31   -142.766703\n",
       "2019-01-31   -154.690124\n",
       "2019-04-30   -168.393552\n",
       "2019-07-31   -177.375970\n",
       "2019-10-31   -189.844394\n",
       "2020-01-31   -201.767814\n",
       "2020-04-30   -215.471242\n",
       "2020-07-31   -224.453660\n",
       "2020-10-31   -236.922084\n",
       "Freq: Q-OCT, Name: simulation, dtype: float64"
      ]
     },
     "execution_count": 320,
     "metadata": {},
     "output_type": "execute_result"
    }
   ],
   "source": [
    "# code here (0.25 pt.)\n",
    "fit_MAA.forecast(steps=30)"
   ]
  },
  {
   "cell_type": "markdown",
   "metadata": {},
   "source": [
    "Obtain point forecasts for ETS(AAM) with forecasting horizon=30 quarters:\n",
    "\n",
    "```fit_AAM.forecast(steps=...)```"
   ]
  },
  {
   "cell_type": "code",
   "execution_count": 321,
   "metadata": {},
   "outputs": [
    {
     "data": {
      "text/plain": [
       "2013-07-31    119.244484\n",
       "2013-10-31    117.867104\n",
       "2014-01-31    133.457518\n",
       "2014-04-30    118.815419\n",
       "2014-07-31    124.107456\n",
       "2014-10-31    122.625392\n",
       "2015-01-31    138.791358\n",
       "2015-04-30    123.517087\n",
       "2015-07-31    128.970429\n",
       "2015-10-31    127.383680\n",
       "2016-01-31    144.125199\n",
       "2016-04-30    128.218756\n",
       "2016-07-31    133.833402\n",
       "2016-10-31    132.141968\n",
       "2017-01-31    149.459040\n",
       "2017-04-30    132.920425\n",
       "2017-07-31    138.696374\n",
       "2017-10-31    136.900257\n",
       "2018-01-31    154.792881\n",
       "2018-04-30    137.622094\n",
       "2018-07-31    143.559347\n",
       "2018-10-31    141.658545\n",
       "2019-01-31    160.126721\n",
       "2019-04-30    142.323762\n",
       "2019-07-31    148.422319\n",
       "2019-10-31    146.416833\n",
       "2020-01-31    165.460562\n",
       "2020-04-30    147.025431\n",
       "2020-07-31    153.285292\n",
       "2020-10-31    151.175122\n",
       "Freq: Q-OCT, Name: simulation, dtype: float64"
      ]
     },
     "execution_count": 321,
     "metadata": {},
     "output_type": "execute_result"
    }
   ],
   "source": [
    "# code here (0.25 pt.)\n",
    "fit_AAM.forecast(steps=30)"
   ]
  },
  {
   "cell_type": "markdown",
   "metadata": {},
   "source": [
    "Plot both forecasts (AAM) and (MAA), test and train data\n",
    "\n",
    "```plot_series()```"
   ]
  },
  {
   "cell_type": "code",
   "execution_count": 27,
   "metadata": {},
   "outputs": [
    {
     "data": {
      "text/plain": [
       "(<Figure size 1152x288 with 1 Axes>, <AxesSubplot:ylabel='simulation'>)"
      ]
     },
     "execution_count": 27,
     "metadata": {},
     "output_type": "execute_result"
    },
    {
     "data": {
      "image/png": "[encoded data removed]",
      "text/plain": [
       "<Figure size 1152x288 with 1 Axes>"
      ]
     },
     "metadata": {
      "needs_background": "light"
     },
     "output_type": "display_data"
    }
   ],
   "source": [
    "# code here (0.5 pt.)\n",
    "plot_series(fit_AAM.forecast(steps=30), fit_MAA.forecast(steps=30), labels= ['AAM','MAA'] )"
   ]
  },
  {
   "cell_type": "markdown",
   "metadata": {},
   "source": [
    "### 2.3 Interval forecasts ETS(MAA) (1 pt.)\n",
    "[back to contents](#Contents)"
   ]
  },
  {
   "cell_type": "markdown",
   "metadata": {},
   "source": [
    "Get 95% confidence intervals:\n",
    "\n",
    "```pred_MAA=fit_MAA.get_prediction(start='2013-07-31', end='2020-10-31') ```\n",
    "\n",
    "``` pred_MAA=pred_MAA.summary_frame(alpha=0.05) ```\n",
    "\n",
    "Expract upper and lower bounds from ```pred_MAA``` and name them ```upper_int``` and ```lower_int```\n"
   ]
  },
  {
   "cell_type": "code",
   "execution_count": 60,
   "metadata": {},
   "outputs": [
    {
     "data": {
      "text/html": [
       "<div>\n",
       "<style scoped>\n",
       "    .dataframe tbody tr th:only-of-type {\n",
       "        vertical-align: middle;\n",
       "    }\n",
       "\n",
       "    .dataframe tbody tr th {\n",
       "        vertical-align: top;\n",
       "    }\n",
       "\n",
       "    .dataframe thead th {\n",
       "        text-align: right;\n",
       "    }\n",
       "</style>\n",
       "<table border=\"1\" class=\"dataframe\">\n",
       "  <thead>\n",
       "    <tr style=\"text-align: right;\">\n",
       "      <th></th>\n",
       "      <th>mean</th>\n",
       "      <th>mean_numerical</th>\n",
       "      <th>lower_int</th>\n",
       "      <th>upper_int</th>\n",
       "    </tr>\n",
       "  </thead>\n",
       "  <tbody>\n",
       "    <tr>\n",
       "      <th>2013-07-31</th>\n",
       "      <td>117.848870</td>\n",
       "      <td>118.184553</td>\n",
       "      <td>108.519334</td>\n",
       "      <td>127.759244</td>\n",
       "    </tr>\n",
       "    <tr>\n",
       "      <th>2013-10-31</th>\n",
       "      <td>117.364670</td>\n",
       "      <td>117.437089</td>\n",
       "      <td>106.820046</td>\n",
       "      <td>128.117325</td>\n",
       "    </tr>\n",
       "    <tr>\n",
       "      <th>2014-01-31</th>\n",
       "      <td>130.725436</td>\n",
       "      <td>130.901648</td>\n",
       "      <td>118.512252</td>\n",
       "      <td>143.713138</td>\n",
       "    </tr>\n",
       "    <tr>\n",
       "      <th>2014-04-30</th>\n",
       "      <td>117.901779</td>\n",
       "      <td>118.223984</td>\n",
       "      <td>104.563124</td>\n",
       "      <td>132.883479</td>\n",
       "    </tr>\n",
       "    <tr>\n",
       "      <th>2014-07-31</th>\n",
       "      <td>121.230476</td>\n",
       "      <td>121.748055</td>\n",
       "      <td>102.312839</td>\n",
       "      <td>140.516477</td>\n",
       "    </tr>\n",
       "    <tr>\n",
       "      <th>2014-10-31</th>\n",
       "      <td>120.746277</td>\n",
       "      <td>120.925476</td>\n",
       "      <td>99.070765</td>\n",
       "      <td>142.788992</td>\n",
       "    </tr>\n",
       "    <tr>\n",
       "      <th>2015-01-31</th>\n",
       "      <td>134.107042</td>\n",
       "      <td>134.435025</td>\n",
       "      <td>111.500762</td>\n",
       "      <td>161.607886</td>\n",
       "    </tr>\n",
       "    <tr>\n",
       "      <th>2015-04-30</th>\n",
       "      <td>121.283386</td>\n",
       "      <td>121.860429</td>\n",
       "      <td>94.622175</td>\n",
       "      <td>149.673336</td>\n",
       "    </tr>\n",
       "    <tr>\n",
       "      <th>2015-07-31</th>\n",
       "      <td>124.612082</td>\n",
       "      <td>125.064534</td>\n",
       "      <td>91.763007</td>\n",
       "      <td>158.476536</td>\n",
       "    </tr>\n",
       "    <tr>\n",
       "      <th>2015-10-31</th>\n",
       "      <td>124.127883</td>\n",
       "      <td>124.276968</td>\n",
       "      <td>88.470902</td>\n",
       "      <td>161.882424</td>\n",
       "    </tr>\n",
       "    <tr>\n",
       "      <th>2016-01-31</th>\n",
       "      <td>137.488648</td>\n",
       "      <td>137.750454</td>\n",
       "      <td>99.262942</td>\n",
       "      <td>180.463568</td>\n",
       "    </tr>\n",
       "    <tr>\n",
       "      <th>2016-04-30</th>\n",
       "      <td>124.664992</td>\n",
       "      <td>125.152431</td>\n",
       "      <td>80.871043</td>\n",
       "      <td>171.633641</td>\n",
       "    </tr>\n",
       "    <tr>\n",
       "      <th>2016-07-31</th>\n",
       "      <td>127.993688</td>\n",
       "      <td>128.401167</td>\n",
       "      <td>79.304969</td>\n",
       "      <td>179.861094</td>\n",
       "    </tr>\n",
       "    <tr>\n",
       "      <th>2016-10-31</th>\n",
       "      <td>127.509489</td>\n",
       "      <td>127.584870</td>\n",
       "      <td>76.513946</td>\n",
       "      <td>184.957329</td>\n",
       "    </tr>\n",
       "    <tr>\n",
       "      <th>2017-01-31</th>\n",
       "      <td>140.870255</td>\n",
       "      <td>141.335009</td>\n",
       "      <td>85.775368</td>\n",
       "      <td>205.779455</td>\n",
       "    </tr>\n",
       "    <tr>\n",
       "      <th>2017-04-30</th>\n",
       "      <td>128.046598</td>\n",
       "      <td>128.502691</td>\n",
       "      <td>70.414823</td>\n",
       "      <td>193.337534</td>\n",
       "    </tr>\n",
       "    <tr>\n",
       "      <th>2017-07-31</th>\n",
       "      <td>131.375295</td>\n",
       "      <td>132.124375</td>\n",
       "      <td>64.910523</td>\n",
       "      <td>207.009235</td>\n",
       "    </tr>\n",
       "    <tr>\n",
       "      <th>2017-10-31</th>\n",
       "      <td>130.891095</td>\n",
       "      <td>131.003897</td>\n",
       "      <td>63.757940</td>\n",
       "      <td>211.142506</td>\n",
       "    </tr>\n",
       "    <tr>\n",
       "      <th>2018-01-31</th>\n",
       "      <td>144.251861</td>\n",
       "      <td>145.076043</td>\n",
       "      <td>72.913804</td>\n",
       "      <td>231.416845</td>\n",
       "    </tr>\n",
       "    <tr>\n",
       "      <th>2018-04-30</th>\n",
       "      <td>131.428205</td>\n",
       "      <td>132.198970</td>\n",
       "      <td>55.068257</td>\n",
       "      <td>228.325719</td>\n",
       "    </tr>\n",
       "    <tr>\n",
       "      <th>2018-07-31</th>\n",
       "      <td>134.756901</td>\n",
       "      <td>135.952045</td>\n",
       "      <td>51.154323</td>\n",
       "      <td>243.325421</td>\n",
       "    </tr>\n",
       "    <tr>\n",
       "      <th>2018-10-31</th>\n",
       "      <td>134.272702</td>\n",
       "      <td>135.002711</td>\n",
       "      <td>48.198918</td>\n",
       "      <td>242.009437</td>\n",
       "    </tr>\n",
       "    <tr>\n",
       "      <th>2019-01-31</th>\n",
       "      <td>147.633467</td>\n",
       "      <td>148.890504</td>\n",
       "      <td>57.304883</td>\n",
       "      <td>271.019554</td>\n",
       "    </tr>\n",
       "    <tr>\n",
       "      <th>2019-04-30</th>\n",
       "      <td>134.809811</td>\n",
       "      <td>135.979545</td>\n",
       "      <td>39.881097</td>\n",
       "      <td>270.295195</td>\n",
       "    </tr>\n",
       "    <tr>\n",
       "      <th>2019-07-31</th>\n",
       "      <td>138.138507</td>\n",
       "      <td>140.125253</td>\n",
       "      <td>37.149495</td>\n",
       "      <td>286.140369</td>\n",
       "    </tr>\n",
       "    <tr>\n",
       "      <th>2019-10-31</th>\n",
       "      <td>137.654308</td>\n",
       "      <td>138.767051</td>\n",
       "      <td>29.803503</td>\n",
       "      <td>284.678920</td>\n",
       "    </tr>\n",
       "    <tr>\n",
       "      <th>2020-01-31</th>\n",
       "      <td>151.015074</td>\n",
       "      <td>152.665051</td>\n",
       "      <td>39.578660</td>\n",
       "      <td>308.326023</td>\n",
       "    </tr>\n",
       "    <tr>\n",
       "      <th>2020-04-30</th>\n",
       "      <td>138.191417</td>\n",
       "      <td>139.957693</td>\n",
       "      <td>23.773701</td>\n",
       "      <td>300.886426</td>\n",
       "    </tr>\n",
       "    <tr>\n",
       "      <th>2020-07-31</th>\n",
       "      <td>141.520114</td>\n",
       "      <td>143.929949</td>\n",
       "      <td>18.457098</td>\n",
       "      <td>319.038872</td>\n",
       "    </tr>\n",
       "    <tr>\n",
       "      <th>2020-10-31</th>\n",
       "      <td>141.035914</td>\n",
       "      <td>142.219121</td>\n",
       "      <td>10.963378</td>\n",
       "      <td>321.335965</td>\n",
       "    </tr>\n",
       "  </tbody>\n",
       "</table>\n",
       "</div>"
      ],
      "text/plain": [
       "                  mean  mean_numerical   lower_int   upper_int\n",
       "2013-07-31  117.848870      118.184553  108.519334  127.759244\n",
       "2013-10-31  117.364670      117.437089  106.820046  128.117325\n",
       "2014-01-31  130.725436      130.901648  118.512252  143.713138\n",
       "2014-04-30  117.901779      118.223984  104.563124  132.883479\n",
       "2014-07-31  121.230476      121.748055  102.312839  140.516477\n",
       "2014-10-31  120.746277      120.925476   99.070765  142.788992\n",
       "2015-01-31  134.107042      134.435025  111.500762  161.607886\n",
       "2015-04-30  121.283386      121.860429   94.622175  149.673336\n",
       "2015-07-31  124.612082      125.064534   91.763007  158.476536\n",
       "2015-10-31  124.127883      124.276968   88.470902  161.882424\n",
       "2016-01-31  137.488648      137.750454   99.262942  180.463568\n",
       "2016-04-30  124.664992      125.152431   80.871043  171.633641\n",
       "2016-07-31  127.993688      128.401167   79.304969  179.861094\n",
       "2016-10-31  127.509489      127.584870   76.513946  184.957329\n",
       "2017-01-31  140.870255      141.335009   85.775368  205.779455\n",
       "2017-04-30  128.046598      128.502691   70.414823  193.337534\n",
       "2017-07-31  131.375295      132.124375   64.910523  207.009235\n",
       "2017-10-31  130.891095      131.003897   63.757940  211.142506\n",
       "2018-01-31  144.251861      145.076043   72.913804  231.416845\n",
       "2018-04-30  131.428205      132.198970   55.068257  228.325719\n",
       "2018-07-31  134.756901      135.952045   51.154323  243.325421\n",
       "2018-10-31  134.272702      135.002711   48.198918  242.009437\n",
       "2019-01-31  147.633467      148.890504   57.304883  271.019554\n",
       "2019-04-30  134.809811      135.979545   39.881097  270.295195\n",
       "2019-07-31  138.138507      140.125253   37.149495  286.140369\n",
       "2019-10-31  137.654308      138.767051   29.803503  284.678920\n",
       "2020-01-31  151.015074      152.665051   39.578660  308.326023\n",
       "2020-04-30  138.191417      139.957693   23.773701  300.886426\n",
       "2020-07-31  141.520114      143.929949   18.457098  319.038872\n",
       "2020-10-31  141.035914      142.219121   10.963378  321.335965"
      ]
     },
     "execution_count": 60,
     "metadata": {},
     "output_type": "execute_result"
    }
   ],
   "source": [
    "# code here (0.5 pt.)\n",
    "pred_MAA=fit_MAA.get_prediction(start='2013-07-31', end='2020-10-31')\n",
    "\n",
    "pred_MAA=pred_MAA.summary_frame(alpha=0.05)\n",
    "lower_int=pred_MAA.pi_lower\n",
    "upper_int=pred_MAA.pi_upper\n",
    "pred_MAA = pred_MAA.rename(columns={'pi_lower': 'lower_int', 'pi_upper': 'upper_int'})\n",
    "pred_MAA\n",
    "                         "
   ]
  },
  {
   "cell_type": "markdown",
   "metadata": {},
   "source": [
    "Plot interval predictions:\n",
    "\n",
    "```plot_series()```"
   ]
  },
  {
   "cell_type": "code",
   "execution_count": 62,
   "metadata": {
    "scrolled": true
   },
   "outputs": [
    {
     "data": {
      "text/plain": [
       "(<Figure size 1152x288 with 1 Axes>, <AxesSubplot:ylabel='pi_upper'>)"
      ]
     },
     "execution_count": 62,
     "metadata": {},
     "output_type": "execute_result"
    },
    {
     "data": {
      "image/png": "[encoded data removed]",
      "text/plain": [
       "<Figure size 1152x288 with 1 Axes>"
      ]
     },
     "metadata": {
      "needs_background": "light"
     },
     "output_type": "display_data"
    }
   ],
   "source": [
    "# code here (0.5 pt.)\n",
    "plot_series(upper_int, lower_int)"
   ]
  },
  {
   "cell_type": "markdown",
   "metadata": {},
   "source": [
    "### 2.4 Interval forecasts ETS(AAM) (1 pt.)\n",
    "[back to contents](#Contents)"
   ]
  },
  {
   "cell_type": "markdown",
   "metadata": {},
   "source": [
    "Get 95% confidence intervals:\n",
    "\n",
    "``` pred_AAM=fit_AAM.get_prediction(start='2013-07-31', end='2020-10-31') ```\n",
    "\n",
    "``` pred_AAM=pred_AAM.summary_frame(alpha=0.05) ```\n",
    "\n",
    "Expract upper and lower bounds from ```pred_MAA``` and name them ```upper_int``` and ```lower_int```"
   ]
  },
  {
   "cell_type": "code",
   "execution_count": 63,
   "metadata": {},
   "outputs": [
    {
     "data": {
      "text/html": [
       "<div>\n",
       "<style scoped>\n",
       "    .dataframe tbody tr th:only-of-type {\n",
       "        vertical-align: middle;\n",
       "    }\n",
       "\n",
       "    .dataframe tbody tr th {\n",
       "        vertical-align: top;\n",
       "    }\n",
       "\n",
       "    .dataframe thead th {\n",
       "        text-align: right;\n",
       "    }\n",
       "</style>\n",
       "<table border=\"1\" class=\"dataframe\">\n",
       "  <thead>\n",
       "    <tr style=\"text-align: right;\">\n",
       "      <th></th>\n",
       "      <th>mean</th>\n",
       "      <th>mean_numerical</th>\n",
       "      <th>lower_int</th>\n",
       "      <th>upper_int</th>\n",
       "    </tr>\n",
       "  </thead>\n",
       "  <tbody>\n",
       "    <tr>\n",
       "      <th>2013-07-31</th>\n",
       "      <td>119.244350</td>\n",
       "      <td>119.218939</td>\n",
       "      <td>115.529342</td>\n",
       "      <td>122.800788</td>\n",
       "    </tr>\n",
       "    <tr>\n",
       "      <th>2013-10-31</th>\n",
       "      <td>117.867089</td>\n",
       "      <td>117.671387</td>\n",
       "      <td>113.396693</td>\n",
       "      <td>122.046424</td>\n",
       "    </tr>\n",
       "    <tr>\n",
       "      <th>2014-01-31</th>\n",
       "      <td>133.457338</td>\n",
       "      <td>133.338269</td>\n",
       "      <td>128.249866</td>\n",
       "      <td>138.333349</td>\n",
       "    </tr>\n",
       "    <tr>\n",
       "      <th>2014-04-30</th>\n",
       "      <td>118.815402</td>\n",
       "      <td>118.757414</td>\n",
       "      <td>113.406320</td>\n",
       "      <td>124.147515</td>\n",
       "    </tr>\n",
       "    <tr>\n",
       "      <th>2014-07-31</th>\n",
       "      <td>124.107285</td>\n",
       "      <td>123.916285</td>\n",
       "      <td>117.247530</td>\n",
       "      <td>130.244123</td>\n",
       "    </tr>\n",
       "    <tr>\n",
       "      <th>2014-10-31</th>\n",
       "      <td>122.625346</td>\n",
       "      <td>122.380915</td>\n",
       "      <td>115.091876</td>\n",
       "      <td>129.179041</td>\n",
       "    </tr>\n",
       "    <tr>\n",
       "      <th>2015-01-31</th>\n",
       "      <td>138.791137</td>\n",
       "      <td>138.722609</td>\n",
       "      <td>130.223717</td>\n",
       "      <td>146.615735</td>\n",
       "    </tr>\n",
       "    <tr>\n",
       "      <th>2015-04-30</th>\n",
       "      <td>123.517040</td>\n",
       "      <td>123.466673</td>\n",
       "      <td>115.481484</td>\n",
       "      <td>131.176803</td>\n",
       "    </tr>\n",
       "    <tr>\n",
       "      <th>2015-07-31</th>\n",
       "      <td>128.970221</td>\n",
       "      <td>128.860077</td>\n",
       "      <td>119.281537</td>\n",
       "      <td>137.944202</td>\n",
       "    </tr>\n",
       "    <tr>\n",
       "      <th>2015-10-31</th>\n",
       "      <td>127.383603</td>\n",
       "      <td>127.232243</td>\n",
       "      <td>117.380239</td>\n",
       "      <td>136.656075</td>\n",
       "    </tr>\n",
       "    <tr>\n",
       "      <th>2016-01-31</th>\n",
       "      <td>144.124937</td>\n",
       "      <td>144.018452</td>\n",
       "      <td>131.996069</td>\n",
       "      <td>155.534651</td>\n",
       "    </tr>\n",
       "    <tr>\n",
       "      <th>2016-04-30</th>\n",
       "      <td>128.218678</td>\n",
       "      <td>128.055629</td>\n",
       "      <td>116.799837</td>\n",
       "      <td>138.893621</td>\n",
       "    </tr>\n",
       "    <tr>\n",
       "      <th>2016-07-31</th>\n",
       "      <td>133.833156</td>\n",
       "      <td>133.682575</td>\n",
       "      <td>121.147017</td>\n",
       "      <td>145.620551</td>\n",
       "    </tr>\n",
       "    <tr>\n",
       "      <th>2016-10-31</th>\n",
       "      <td>132.141860</td>\n",
       "      <td>131.956833</td>\n",
       "      <td>118.969222</td>\n",
       "      <td>144.318305</td>\n",
       "    </tr>\n",
       "    <tr>\n",
       "      <th>2017-01-31</th>\n",
       "      <td>149.458736</td>\n",
       "      <td>149.299572</td>\n",
       "      <td>134.107791</td>\n",
       "      <td>164.066956</td>\n",
       "    </tr>\n",
       "    <tr>\n",
       "      <th>2017-04-30</th>\n",
       "      <td>132.920316</td>\n",
       "      <td>132.740702</td>\n",
       "      <td>119.213782</td>\n",
       "      <td>146.136126</td>\n",
       "    </tr>\n",
       "    <tr>\n",
       "      <th>2017-07-31</th>\n",
       "      <td>138.696091</td>\n",
       "      <td>138.587866</td>\n",
       "      <td>122.617774</td>\n",
       "      <td>153.633820</td>\n",
       "    </tr>\n",
       "    <tr>\n",
       "      <th>2017-10-31</th>\n",
       "      <td>136.900117</td>\n",
       "      <td>136.740497</td>\n",
       "      <td>121.383836</td>\n",
       "      <td>151.812516</td>\n",
       "    </tr>\n",
       "    <tr>\n",
       "      <th>2018-01-31</th>\n",
       "      <td>154.792535</td>\n",
       "      <td>154.776493</td>\n",
       "      <td>135.744597</td>\n",
       "      <td>171.806714</td>\n",
       "    </tr>\n",
       "    <tr>\n",
       "      <th>2018-04-30</th>\n",
       "      <td>137.621955</td>\n",
       "      <td>137.558973</td>\n",
       "      <td>120.298945</td>\n",
       "      <td>153.681716</td>\n",
       "    </tr>\n",
       "    <tr>\n",
       "      <th>2018-07-31</th>\n",
       "      <td>143.559027</td>\n",
       "      <td>143.553087</td>\n",
       "      <td>125.295495</td>\n",
       "      <td>161.305049</td>\n",
       "    </tr>\n",
       "    <tr>\n",
       "      <th>2018-10-31</th>\n",
       "      <td>141.658374</td>\n",
       "      <td>141.590316</td>\n",
       "      <td>122.867937</td>\n",
       "      <td>159.325014</td>\n",
       "    </tr>\n",
       "    <tr>\n",
       "      <th>2019-01-31</th>\n",
       "      <td>160.126335</td>\n",
       "      <td>160.101886</td>\n",
       "      <td>137.760998</td>\n",
       "      <td>181.326758</td>\n",
       "    </tr>\n",
       "    <tr>\n",
       "      <th>2019-04-30</th>\n",
       "      <td>142.323593</td>\n",
       "      <td>142.264240</td>\n",
       "      <td>121.606657</td>\n",
       "      <td>161.871790</td>\n",
       "    </tr>\n",
       "    <tr>\n",
       "      <th>2019-07-31</th>\n",
       "      <td>148.421962</td>\n",
       "      <td>148.451165</td>\n",
       "      <td>126.990250</td>\n",
       "      <td>170.128426</td>\n",
       "    </tr>\n",
       "    <tr>\n",
       "      <th>2019-10-31</th>\n",
       "      <td>146.416630</td>\n",
       "      <td>146.384607</td>\n",
       "      <td>123.873851</td>\n",
       "      <td>167.176775</td>\n",
       "    </tr>\n",
       "    <tr>\n",
       "      <th>2020-01-31</th>\n",
       "      <td>165.460134</td>\n",
       "      <td>165.577113</td>\n",
       "      <td>139.888037</td>\n",
       "      <td>190.381142</td>\n",
       "    </tr>\n",
       "    <tr>\n",
       "      <th>2020-04-30</th>\n",
       "      <td>147.025231</td>\n",
       "      <td>146.982103</td>\n",
       "      <td>122.674786</td>\n",
       "      <td>169.809460</td>\n",
       "    </tr>\n",
       "    <tr>\n",
       "      <th>2020-07-31</th>\n",
       "      <td>153.284897</td>\n",
       "      <td>153.256680</td>\n",
       "      <td>127.780715</td>\n",
       "      <td>178.238052</td>\n",
       "    </tr>\n",
       "    <tr>\n",
       "      <th>2020-10-31</th>\n",
       "      <td>151.174887</td>\n",
       "      <td>151.173690</td>\n",
       "      <td>125.436104</td>\n",
       "      <td>176.152237</td>\n",
       "    </tr>\n",
       "  </tbody>\n",
       "</table>\n",
       "</div>"
      ],
      "text/plain": [
       "                  mean  mean_numerical   lower_int   upper_int\n",
       "2013-07-31  119.244350      119.218939  115.529342  122.800788\n",
       "2013-10-31  117.867089      117.671387  113.396693  122.046424\n",
       "2014-01-31  133.457338      133.338269  128.249866  138.333349\n",
       "2014-04-30  118.815402      118.757414  113.406320  124.147515\n",
       "2014-07-31  124.107285      123.916285  117.247530  130.244123\n",
       "2014-10-31  122.625346      122.380915  115.091876  129.179041\n",
       "2015-01-31  138.791137      138.722609  130.223717  146.615735\n",
       "2015-04-30  123.517040      123.466673  115.481484  131.176803\n",
       "2015-07-31  128.970221      128.860077  119.281537  137.944202\n",
       "2015-10-31  127.383603      127.232243  117.380239  136.656075\n",
       "2016-01-31  144.124937      144.018452  131.996069  155.534651\n",
       "2016-04-30  128.218678      128.055629  116.799837  138.893621\n",
       "2016-07-31  133.833156      133.682575  121.147017  145.620551\n",
       "2016-10-31  132.141860      131.956833  118.969222  144.318305\n",
       "2017-01-31  149.458736      149.299572  134.107791  164.066956\n",
       "2017-04-30  132.920316      132.740702  119.213782  146.136126\n",
       "2017-07-31  138.696091      138.587866  122.617774  153.633820\n",
       "2017-10-31  136.900117      136.740497  121.383836  151.812516\n",
       "2018-01-31  154.792535      154.776493  135.744597  171.806714\n",
       "2018-04-30  137.621955      137.558973  120.298945  153.681716\n",
       "2018-07-31  143.559027      143.553087  125.295495  161.305049\n",
       "2018-10-31  141.658374      141.590316  122.867937  159.325014\n",
       "2019-01-31  160.126335      160.101886  137.760998  181.326758\n",
       "2019-04-30  142.323593      142.264240  121.606657  161.871790\n",
       "2019-07-31  148.421962      148.451165  126.990250  170.128426\n",
       "2019-10-31  146.416630      146.384607  123.873851  167.176775\n",
       "2020-01-31  165.460134      165.577113  139.888037  190.381142\n",
       "2020-04-30  147.025231      146.982103  122.674786  169.809460\n",
       "2020-07-31  153.284897      153.256680  127.780715  178.238052\n",
       "2020-10-31  151.174887      151.173690  125.436104  176.152237"
      ]
     },
     "execution_count": 63,
     "metadata": {},
     "output_type": "execute_result"
    }
   ],
   "source": [
    "# code here (0.5 pt.)\n",
    "pred_AAM=fit_AAM.get_prediction(start='2013-07-31', end='2020-10-31')\n",
    "\n",
    "pred_AAM=pred_AAM.summary_frame(alpha=0.05)\n",
    "lower_int=pred_AAM.pi_lower\n",
    "upper_int=pred_AAM.pi_upper\n",
    "pred_AAM = pred_AAM.rename(columns={'pi_lower': 'lower_int', 'pi_upper': 'upper_int'})\n",
    "pred_AAM\n"
   ]
  },
  {
   "cell_type": "markdown",
   "metadata": {},
   "source": [
    "Plot interval predictions:\n",
    "\n",
    "```plot_series()```"
   ]
  },
  {
   "cell_type": "code",
   "execution_count": 64,
   "metadata": {
    "scrolled": true
   },
   "outputs": [
    {
     "data": {
      "text/plain": [
       "(<Figure size 1152x288 with 1 Axes>, <AxesSubplot:ylabel='pi_upper'>)"
      ]
     },
     "execution_count": 64,
     "metadata": {},
     "output_type": "execute_result"
    },
    {
     "data": {
      "image/png": "[encoded data removed]",
      "text/plain": [
       "<Figure size 1152x288 with 1 Axes>"
      ]
     },
     "metadata": {
      "needs_background": "light"
     },
     "output_type": "display_data"
    }
   ],
   "source": [
    "# code here (0.5 pt.)\n",
    "plot_series(upper_int, lower_int)"
   ]
  },
  {
   "cell_type": "markdown",
   "metadata": {},
   "source": [
    "### 2.5 Forecast quality metrics (2 pt.)\n",
    "[back to contents](#Contents)"
   ]
  },
  {
   "cell_type": "markdown",
   "metadata": {},
   "source": [
    "Calculate the following metrics for both ETS(MAA) and ETS(AAM) predictions:"
   ]
  },
  {
   "cell_type": "markdown",
   "metadata": {},
   "source": [
    "$MAE = \\frac{\\sum\\limits_{i=1}^n |y_i-\\hat{y}_i|}{n}$\n",
    "\n",
    "```python\n",
    "sklearn.metrics.mean_absolute_error\n",
    "```"
   ]
  },
  {
   "cell_type": "code",
   "execution_count": 57,
   "metadata": {},
   "outputs": [
    {
     "data": {
      "text/plain": [
       "6.39454141486733"
      ]
     },
     "execution_count": 57,
     "metadata": {},
     "output_type": "execute_result"
    }
   ],
   "source": [
    "# code here (0.5 pt.) MAA\n",
    "import sklearn.metrics as skmet\n",
    "skmet.mean_absolute_error(y_test, fit_MAA.forecast(steps=30))"
   ]
  },
  {
   "cell_type": "code",
   "execution_count": 58,
   "metadata": {},
   "outputs": [
    {
     "data": {
      "text/plain": [
       "12.709275358816642"
      ]
     },
     "execution_count": 58,
     "metadata": {},
     "output_type": "execute_result"
    }
   ],
   "source": [
    "# code here (0.5 pt.) AAM\n",
    "skmet.mean_absolute_error(y_test, fit_AAM.forecast(steps=30))"
   ]
  },
  {
   "cell_type": "markdown",
   "metadata": {},
   "source": [
    "$MSE = \\frac{\\sum\\limits_{i=1}^n (y_i-\\hat{y}_i)^2}{n}$\n",
    "\n",
    "```python\n",
    "sklearn.metrics.mean_squared_error\n",
    "```"
   ]
  },
  {
   "cell_type": "code",
   "execution_count": 68,
   "metadata": {},
   "outputs": [
    {
     "data": {
      "text/plain": [
       "50.57139369674357"
      ]
     },
     "execution_count": 68,
     "metadata": {},
     "output_type": "execute_result"
    }
   ],
   "source": [
    "# code here (0.5 pt.) MAA\n",
    "skmet.mean_squared_error(y_test, fit_MAA.forecast(steps=30))"
   ]
  },
  {
   "cell_type": "code",
   "execution_count": 70,
   "metadata": {},
   "outputs": [
    {
     "data": {
      "text/plain": [
       "195.9739616889944"
      ]
     },
     "execution_count": 70,
     "metadata": {},
     "output_type": "execute_result"
    }
   ],
   "source": [
    "# code here (0.5 pt.) AAM\n",
    "skmet.mean_squared_error(y_test, fit_AAM.forecast(steps=30))"
   ]
  },
  {
   "cell_type": "markdown",
   "metadata": {},
   "source": [
    "$MAPE = \\frac{100}{n}\\frac{\\sum\\limits_{i=1}^n |y_i-\\hat{y}_i|}{y_i}$ \n",
    "\n",
    "```python\n",
    "def mean_absolute_percentage_error(y_true, y_pred): \n",
    "    return np.mean(np.abs((y_true - y_pred) / y_true)) * 100\n",
    "```"
   ]
  },
  {
   "cell_type": "markdown",
   "metadata": {},
   "source": [
    "Create a new function to calculate MAPE"
   ]
  },
  {
   "cell_type": "code",
   "execution_count": 71,
   "metadata": {},
   "outputs": [],
   "source": [
    "# code here (0.5 pt.)\n",
    "def mean_absolute_percentage_error(y_true, y_pred): \n",
    "    return np.mean(np.abs((y_true - y_pred) / y_true)) * 100"
   ]
  },
  {
   "cell_type": "markdown",
   "metadata": {},
   "source": [
    "Calculate MAPE:"
   ]
  },
  {
   "cell_type": "code",
   "execution_count": 74,
   "metadata": {},
   "outputs": [
    {
     "data": {
      "text/plain": [
       "5.091696961546188"
      ]
     },
     "execution_count": 74,
     "metadata": {},
     "output_type": "execute_result"
    }
   ],
   "source": [
    "# code here (0.25 pt.) MAA\n",
    "mean_absolute_percentage_error(y_test, fit_MAA.forecast(steps=30))"
   ]
  },
  {
   "cell_type": "code",
   "execution_count": 75,
   "metadata": {},
   "outputs": [
    {
     "data": {
      "text/plain": [
       "9.993612476660727"
      ]
     },
     "execution_count": 75,
     "metadata": {},
     "output_type": "execute_result"
    }
   ],
   "source": [
    "# code here (0.25 pt.) AAM\n",
    "mean_absolute_percentage_error(y_test, fit_AAM.forecast(steps=30))"
   ]
  },
  {
   "cell_type": "markdown",
   "metadata": {},
   "source": [
    "### 2.6 What is the best model according to the metrics above? (1 pt.)"
   ]
  },
  {
   "cell_type": "code",
   "execution_count": 77,
   "metadata": {},
   "outputs": [
    {
     "data": {
      "text/plain": [
       "'MAA is better'"
      ]
     },
     "execution_count": 77,
     "metadata": {},
     "output_type": "execute_result"
    }
   ],
   "source": [
    "# code here (1 pt.)\n",
    "'MAA is better'"
   ]
  }
 ],
 "metadata": {
  "kernelspec": {
   "display_name": "Python 3",
   "language": "python",
   "name": "python3"
  },
  "language_info": {
   "codemirror_mode": {
    "name": "ipython",
    "version": 3
   },
   "file_extension": ".py",
   "mimetype": "text/x-python",
   "name": "python",
   "nbconvert_exporter": "python",
   "pygments_lexer": "ipython3",
   "version": "3.7.9"
  }
 },
 "nbformat": 4,
 "nbformat_minor": 2
}
